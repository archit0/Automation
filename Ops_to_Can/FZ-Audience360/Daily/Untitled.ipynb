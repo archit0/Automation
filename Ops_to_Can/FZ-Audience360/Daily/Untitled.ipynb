{
 "cells": [
  {
   "cell_type": "code",
   "execution_count": 1,
   "metadata": {},
   "outputs": [
    {
     "name": "stdout",
     "output_type": "stream",
     "text": [
      "Execution start\n"
     ]
    }
   ],
   "source": [
    "import pandas as pd\n",
    "import numpy as np\n",
    "import psycopg2\n",
    "import time\n",
    "import datetime\n",
    "import sys\n",
    "\n",
    "print(\"Execution start\")\n",
    "# database credentials\n",
    "database1 = \"opsfeaturizer\"\n",
    "database2 = \"alchemy\"\n",
    "db_user = \"slickdeal_dev_user\"\n",
    "db_password = \"UfHK3bnMy78siAie\"\n",
    "db_host = \"127.0.0.1\"\n",
    "db_port = \"5439\""
   ]
  },
  {
   "cell_type": "code",
   "execution_count": 2,
   "metadata": {},
   "outputs": [],
   "source": [
    "conn1 = psycopg2.connect(\n",
    "    dbname=database1,\n",
    "    user=db_user,\n",
    "    password=db_password,\n",
    "    host=db_host,\n",
    "    port=db_port\n",
    ")\n",
    "\n",
    "conn2 = psycopg2.connect(\n",
    "    dbname=database2,\n",
    "    user=db_user,\n",
    "    password=db_password,\n",
    "    host=db_host,\n",
    "    port=db_port\n",
    ")"
   ]
  },
  {
   "cell_type": "code",
   "execution_count": 6,
   "metadata": {},
   "outputs": [],
   "source": [
    "user_df = pd.read_sql_query('select id from segment ', con=conn2)\n",
    "value_df = pd.read_sql_query('select * from segment_attribute_value where segment_attribute_id in (5,6,31,32,33,34,35,40);', con=conn2)\n",
    "attr_df = pd.read_sql_query('select id, name from segment_attribute where id in (5,6,31,32,33,34,35,40);', con=conn2)\n"
   ]
  },
  {
   "cell_type": "code",
   "execution_count": 10,
   "metadata": {},
   "outputs": [],
   "source": [
    "final_df = pd.merge(attr_df, value_df, how='left', left_on='id', right_on='segment_attribute_id')\n",
    "final_df = pd.pivot_table(final_df, columns=['name'], index=['segment_id'], values=['value'], aggfunc=max).reset_index()\n",
    "final_df.columns =['_'.join(col).rstrip('_') for col in final_df.columns.values]"
   ]
  },
  {
   "cell_type": "code",
   "execution_count": 260,
   "metadata": {},
   "outputs": [],
   "source": [
    "_df = df1['value_products_outclicked'].apply(lambda x: json.loads(x))\n",
    "__df = pd.DataFrame(_df.to_list())\n",
    "df3 = pd.merge(df1, __df, right_index=True, left_index=True)\n",
    "df3 = df3.rename(columns={'year':'y', 'month':'m', 'week':'w', 'weekday':'dw'})"
   ]
  },
  {
   "cell_type": "code",
   "execution_count": 12,
   "metadata": {},
   "outputs": [
    {
     "data": {
      "text/plain": [
       "Index(['segment_id', 'value_lifetime_avg_net_total_commission',\n",
       "       'value_lifetime_avg_transaction_amount',\n",
       "       'value_lifetime_sum_net_total_commission',\n",
       "       'value_lifetime_sum_net_transaction_amount',\n",
       "       'value_lifetime_transactions_frequency'],\n",
       "      dtype='object')"
      ]
     },
     "execution_count": 12,
     "metadata": {},
     "output_type": "execute_result"
    }
   ],
   "source": [
    "final_df.columns"
   ]
  },
  {
   "cell_type": "code",
   "execution_count": 15,
   "metadata": {},
   "outputs": [
    {
     "data": {
      "text/html": [
       "<div>\n",
       "<style scoped>\n",
       "    .dataframe tbody tr th:only-of-type {\n",
       "        vertical-align: middle;\n",
       "    }\n",
       "\n",
       "    .dataframe tbody tr th {\n",
       "        vertical-align: top;\n",
       "    }\n",
       "\n",
       "    .dataframe thead th {\n",
       "        text-align: right;\n",
       "    }\n",
       "</style>\n",
       "<table border=\"1\" class=\"dataframe\">\n",
       "  <thead>\n",
       "    <tr style=\"text-align: right;\">\n",
       "      <th></th>\n",
       "      <th>id</th>\n",
       "      <th>segment_id</th>\n",
       "      <th>segment_attribute_id</th>\n",
       "      <th>value</th>\n",
       "      <th>created_time</th>\n",
       "      <th>modified_time</th>\n",
       "    </tr>\n",
       "  </thead>\n",
       "  <tbody>\n",
       "    <tr>\n",
       "      <th>0</th>\n",
       "      <td>-9223372036854775538</td>\n",
       "      <td>4553b5a9-9770-4bd5-b95d-10368b72d166</td>\n",
       "      <td>32</td>\n",
       "      <td>29.70160</td>\n",
       "      <td>2019-09-30 06:36:31</td>\n",
       "      <td>2019-09-30 06:36:31</td>\n",
       "    </tr>\n",
       "    <tr>\n",
       "      <th>1</th>\n",
       "      <td>-9223372036854775403</td>\n",
       "      <td>4553b5a9-9770-4bd5-b95d-10368b72d166</td>\n",
       "      <td>33</td>\n",
       "      <td>53165.00000</td>\n",
       "      <td>2019-09-30 06:36:31</td>\n",
       "      <td>2019-09-30 06:36:31</td>\n",
       "    </tr>\n",
       "    <tr>\n",
       "      <th>2</th>\n",
       "      <td>-9223372036854775467</td>\n",
       "      <td>c69f83bc-6909-4643-93ee-76a5ef6e3355</td>\n",
       "      <td>35</td>\n",
       "      <td>3.66840</td>\n",
       "      <td>2019-09-30 06:36:31</td>\n",
       "      <td>2019-09-30 06:36:31</td>\n",
       "    </tr>\n",
       "    <tr>\n",
       "      <th>3</th>\n",
       "      <td>-9223372036854775474</td>\n",
       "      <td>dd668e71-d004-4d1c-ae11-23a4354ba1ab</td>\n",
       "      <td>34</td>\n",
       "      <td>10139.36100</td>\n",
       "      <td>2019-09-30 06:36:31</td>\n",
       "      <td>2019-09-30 06:36:31</td>\n",
       "    </tr>\n",
       "    <tr>\n",
       "      <th>4</th>\n",
       "      <td>-9223372036854775652</td>\n",
       "      <td>eced0299-faf7-41c1-9661-0a41a2c94b39</td>\n",
       "      <td>31</td>\n",
       "      <td>245234.40500</td>\n",
       "      <td>2019-09-30 06:36:31</td>\n",
       "      <td>2019-09-30 06:36:31</td>\n",
       "    </tr>\n",
       "    <tr>\n",
       "      <th>5</th>\n",
       "      <td>-9223372036854775514</td>\n",
       "      <td>57c533b9-e11c-4127-a911-d6d0e16c9aa1</td>\n",
       "      <td>32</td>\n",
       "      <td>29.76540</td>\n",
       "      <td>2019-09-30 06:36:31</td>\n",
       "      <td>2019-09-30 06:36:31</td>\n",
       "    </tr>\n",
       "    <tr>\n",
       "      <th>6</th>\n",
       "      <td>-9223372036854775379</td>\n",
       "      <td>57c533b9-e11c-4127-a911-d6d0e16c9aa1</td>\n",
       "      <td>33</td>\n",
       "      <td>20430.00000</td>\n",
       "      <td>2019-09-30 06:36:31</td>\n",
       "      <td>2019-09-30 06:36:31</td>\n",
       "    </tr>\n",
       "    <tr>\n",
       "      <th>7</th>\n",
       "      <td>-9223372036854775443</td>\n",
       "      <td>c69f83bc-6909-4643-93ee-76a5ef6e3355</td>\n",
       "      <td>33</td>\n",
       "      <td>13.00000</td>\n",
       "      <td>2019-09-30 06:36:31</td>\n",
       "      <td>2019-09-30 06:36:31</td>\n",
       "    </tr>\n",
       "    <tr>\n",
       "      <th>8</th>\n",
       "      <td>-9223372036854775628</td>\n",
       "      <td>dd466b60-2dcf-46ad-bf40-c0c71b36794c</td>\n",
       "      <td>31</td>\n",
       "      <td>10460565.82350</td>\n",
       "      <td>2019-09-30 06:36:31</td>\n",
       "      <td>2019-09-30 06:36:31</td>\n",
       "    </tr>\n",
       "    <tr>\n",
       "      <th>9</th>\n",
       "      <td>-9223372036854775450</td>\n",
       "      <td>eced0299-faf7-41c1-9661-0a41a2c94b39</td>\n",
       "      <td>32</td>\n",
       "      <td>30.18260</td>\n",
       "      <td>2019-09-30 06:36:31</td>\n",
       "      <td>2019-09-30 06:36:31</td>\n",
       "    </tr>\n",
       "    <tr>\n",
       "      <th>10</th>\n",
       "      <td>-9223372036854775660</td>\n",
       "      <td>c60570f0-3c23-41e8-975e-61e69e1010ec</td>\n",
       "      <td>31</td>\n",
       "      <td>29572350.85780</td>\n",
       "      <td>2019-09-30 06:36:31</td>\n",
       "      <td>2019-09-30 06:36:31</td>\n",
       "    </tr>\n",
       "    <tr>\n",
       "      <th>11</th>\n",
       "      <td>-9223372036854775482</td>\n",
       "      <td>c60570f0-3c23-41e8-975e-61e69e1010ec</td>\n",
       "      <td>34</td>\n",
       "      <td>1058557.32480</td>\n",
       "      <td>2019-09-30 06:36:31</td>\n",
       "      <td>2019-09-30 06:36:31</td>\n",
       "    </tr>\n",
       "    <tr>\n",
       "      <th>12</th>\n",
       "      <td>-9223372036854775475</td>\n",
       "      <td>c60570f0-3c23-41e8-975e-61e69e1010ec</td>\n",
       "      <td>35</td>\n",
       "      <td>1.04000</td>\n",
       "      <td>2019-09-30 06:36:31</td>\n",
       "      <td>2019-09-30 06:36:31</td>\n",
       "    </tr>\n",
       "    <tr>\n",
       "      <th>13</th>\n",
       "      <td>-9223372036854775546</td>\n",
       "      <td>dd466b60-2dcf-46ad-bf40-c0c71b36794c</td>\n",
       "      <td>34</td>\n",
       "      <td>358491.16410</td>\n",
       "      <td>2019-09-30 06:36:31</td>\n",
       "      <td>2019-09-30 06:36:31</td>\n",
       "    </tr>\n",
       "    <tr>\n",
       "      <th>14</th>\n",
       "      <td>-9223372036854775411</td>\n",
       "      <td>eced0299-faf7-41c1-9661-0a41a2c94b39</td>\n",
       "      <td>33</td>\n",
       "      <td>8125.00000</td>\n",
       "      <td>2019-09-30 06:36:31</td>\n",
       "      <td>2019-09-30 06:36:31</td>\n",
       "    </tr>\n",
       "    <tr>\n",
       "      <th>15</th>\n",
       "      <td>-9223372036854775530</td>\n",
       "      <td>57c533b9-e11c-4127-a911-d6d0e16c9aa1</td>\n",
       "      <td>34</td>\n",
       "      <td>19844.62710</td>\n",
       "      <td>2019-09-30 06:36:31</td>\n",
       "      <td>2019-09-30 06:36:31</td>\n",
       "    </tr>\n",
       "    <tr>\n",
       "      <th>16</th>\n",
       "      <td>-9223372036854775395</td>\n",
       "      <td>57c533b9-e11c-4127-a911-d6d0e16c9aa1</td>\n",
       "      <td>35</td>\n",
       "      <td>0.97130</td>\n",
       "      <td>2019-09-30 06:36:31</td>\n",
       "      <td>2019-09-30 06:36:31</td>\n",
       "    </tr>\n",
       "    <tr>\n",
       "      <th>17</th>\n",
       "      <td>-9223372036854775644</td>\n",
       "      <td>92f11563-03b2-4a5d-a463-e205662e971c</td>\n",
       "      <td>31</td>\n",
       "      <td>608107.58500</td>\n",
       "      <td>2019-09-30 06:36:31</td>\n",
       "      <td>2019-09-30 06:36:31</td>\n",
       "    </tr>\n",
       "    <tr>\n",
       "      <th>18</th>\n",
       "      <td>-9223372036854775466</td>\n",
       "      <td>c69f83bc-6909-4643-93ee-76a5ef6e3355</td>\n",
       "      <td>34</td>\n",
       "      <td>47.69000</td>\n",
       "      <td>2019-09-30 06:36:31</td>\n",
       "      <td>2019-09-30 06:36:31</td>\n",
       "    </tr>\n",
       "    <tr>\n",
       "      <th>19</th>\n",
       "      <td>-9223372036854775459</td>\n",
       "      <td>eced0299-faf7-41c1-9661-0a41a2c94b39</td>\n",
       "      <td>35</td>\n",
       "      <td>0.98310</td>\n",
       "      <td>2019-09-30 06:36:31</td>\n",
       "      <td>2019-09-30 06:36:31</td>\n",
       "    </tr>\n",
       "    <tr>\n",
       "      <th>20</th>\n",
       "      <td>-9223372036854775427</td>\n",
       "      <td>c60570f0-3c23-41e8-975e-61e69e1010ec</td>\n",
       "      <td>33</td>\n",
       "      <td>1017827.00000</td>\n",
       "      <td>2019-09-30 06:36:31</td>\n",
       "      <td>2019-09-30 06:36:31</td>\n",
       "    </tr>\n",
       "    <tr>\n",
       "      <th>21</th>\n",
       "      <td>-9223372036854775434</td>\n",
       "      <td>c69f83bc-6909-4643-93ee-76a5ef6e3355</td>\n",
       "      <td>32</td>\n",
       "      <td>67.80380</td>\n",
       "      <td>2019-09-30 06:36:31</td>\n",
       "      <td>2019-09-30 06:36:31</td>\n",
       "    </tr>\n",
       "    <tr>\n",
       "      <th>22</th>\n",
       "      <td>-9223372036854775363</td>\n",
       "      <td>dd466b60-2dcf-46ad-bf40-c0c71b36794c</td>\n",
       "      <td>33</td>\n",
       "      <td>330303.00000</td>\n",
       "      <td>2019-09-30 06:36:31</td>\n",
       "      <td>2019-09-30 06:36:31</td>\n",
       "    </tr>\n",
       "    <tr>\n",
       "      <th>23</th>\n",
       "      <td>-9223372036854775676</td>\n",
       "      <td>dd668e71-d004-4d1c-ae11-23a4354ba1ab</td>\n",
       "      <td>31</td>\n",
       "      <td>307014.20500</td>\n",
       "      <td>2019-09-30 06:36:31</td>\n",
       "      <td>2019-09-30 06:36:31</td>\n",
       "    </tr>\n",
       "    <tr>\n",
       "      <th>24</th>\n",
       "      <td>-9223372036854775498</td>\n",
       "      <td>eced0299-faf7-41c1-9661-0a41a2c94b39</td>\n",
       "      <td>34</td>\n",
       "      <td>7987.74320</td>\n",
       "      <td>2019-09-30 06:36:31</td>\n",
       "      <td>2019-09-30 06:36:31</td>\n",
       "    </tr>\n",
       "    <tr>\n",
       "      <th>25</th>\n",
       "      <td>-9223372036854775620</td>\n",
       "      <td>4553b5a9-9770-4bd5-b95d-10368b72d166</td>\n",
       "      <td>31</td>\n",
       "      <td>1579088.35000</td>\n",
       "      <td>2019-09-30 06:36:31</td>\n",
       "      <td>2019-09-30 06:36:31</td>\n",
       "    </tr>\n",
       "    <tr>\n",
       "      <th>26</th>\n",
       "      <td>-9223372036854775506</td>\n",
       "      <td>4553b5a9-9770-4bd5-b95d-10368b72d166</td>\n",
       "      <td>34</td>\n",
       "      <td>51546.13810</td>\n",
       "      <td>2019-09-30 06:36:31</td>\n",
       "      <td>2019-09-30 06:36:31</td>\n",
       "    </tr>\n",
       "    <tr>\n",
       "      <th>27</th>\n",
       "      <td>-9223372036854775371</td>\n",
       "      <td>4553b5a9-9770-4bd5-b95d-10368b72d166</td>\n",
       "      <td>35</td>\n",
       "      <td>0.96950</td>\n",
       "      <td>2019-09-30 06:36:31</td>\n",
       "      <td>2019-09-30 06:36:31</td>\n",
       "    </tr>\n",
       "    <tr>\n",
       "      <th>28</th>\n",
       "      <td>-9223372036854775442</td>\n",
       "      <td>dd668e71-d004-4d1c-ae11-23a4354ba1ab</td>\n",
       "      <td>32</td>\n",
       "      <td>28.39830</td>\n",
       "      <td>2019-09-30 06:36:31</td>\n",
       "      <td>2019-09-30 06:36:31</td>\n",
       "    </tr>\n",
       "    <tr>\n",
       "      <th>29</th>\n",
       "      <td>-9223372036854775435</td>\n",
       "      <td>dd668e71-d004-4d1c-ae11-23a4354ba1ab</td>\n",
       "      <td>33</td>\n",
       "      <td>10811.00000</td>\n",
       "      <td>2019-09-30 06:36:31</td>\n",
       "      <td>2019-09-30 06:36:31</td>\n",
       "    </tr>\n",
       "    <tr>\n",
       "      <th>30</th>\n",
       "      <td>-9223372036854775490</td>\n",
       "      <td>92f11563-03b2-4a5d-a463-e205662e971c</td>\n",
       "      <td>32</td>\n",
       "      <td>29.76540</td>\n",
       "      <td>2019-09-30 06:36:31</td>\n",
       "      <td>2019-09-30 06:36:31</td>\n",
       "    </tr>\n",
       "    <tr>\n",
       "      <th>31</th>\n",
       "      <td>-9223372036854775419</td>\n",
       "      <td>92f11563-03b2-4a5d-a463-e205662e971c</td>\n",
       "      <td>35</td>\n",
       "      <td>0.97130</td>\n",
       "      <td>2019-09-30 06:36:31</td>\n",
       "      <td>2019-09-30 06:36:31</td>\n",
       "    </tr>\n",
       "    <tr>\n",
       "      <th>32</th>\n",
       "      <td>-9223372036854775426</td>\n",
       "      <td>c60570f0-3c23-41e8-975e-61e69e1010ec</td>\n",
       "      <td>32</td>\n",
       "      <td>29.05430</td>\n",
       "      <td>2019-09-30 06:36:31</td>\n",
       "      <td>2019-09-30 06:36:31</td>\n",
       "    </tr>\n",
       "    <tr>\n",
       "      <th>33</th>\n",
       "      <td>-9223372036854775668</td>\n",
       "      <td>c69f83bc-6909-4643-93ee-76a5ef6e3355</td>\n",
       "      <td>31</td>\n",
       "      <td>881.45000</td>\n",
       "      <td>2019-09-30 06:36:31</td>\n",
       "      <td>2019-09-30 06:36:31</td>\n",
       "    </tr>\n",
       "    <tr>\n",
       "      <th>34</th>\n",
       "      <td>-9223372036854775483</td>\n",
       "      <td>dd668e71-d004-4d1c-ae11-23a4354ba1ab</td>\n",
       "      <td>35</td>\n",
       "      <td>0.93780</td>\n",
       "      <td>2019-09-30 06:36:31</td>\n",
       "      <td>2019-09-30 06:36:31</td>\n",
       "    </tr>\n",
       "    <tr>\n",
       "      <th>35</th>\n",
       "      <td>-9223372036854775636</td>\n",
       "      <td>57c533b9-e11c-4127-a911-d6d0e16c9aa1</td>\n",
       "      <td>31</td>\n",
       "      <td>608107.58500</td>\n",
       "      <td>2019-09-30 06:36:31</td>\n",
       "      <td>2019-09-30 06:36:31</td>\n",
       "    </tr>\n",
       "    <tr>\n",
       "      <th>36</th>\n",
       "      <td>-9223372036854775451</td>\n",
       "      <td>92f11563-03b2-4a5d-a463-e205662e971c</td>\n",
       "      <td>33</td>\n",
       "      <td>20430.00000</td>\n",
       "      <td>2019-09-30 06:36:31</td>\n",
       "      <td>2019-09-30 06:36:31</td>\n",
       "    </tr>\n",
       "    <tr>\n",
       "      <th>37</th>\n",
       "      <td>-9223372036854775458</td>\n",
       "      <td>92f11563-03b2-4a5d-a463-e205662e971c</td>\n",
       "      <td>34</td>\n",
       "      <td>19844.62710</td>\n",
       "      <td>2019-09-30 06:36:31</td>\n",
       "      <td>2019-09-30 06:36:31</td>\n",
       "    </tr>\n",
       "    <tr>\n",
       "      <th>38</th>\n",
       "      <td>-9223372036854775522</td>\n",
       "      <td>dd466b60-2dcf-46ad-bf40-c0c71b36794c</td>\n",
       "      <td>32</td>\n",
       "      <td>31.66960</td>\n",
       "      <td>2019-09-30 06:36:31</td>\n",
       "      <td>2019-09-30 06:36:31</td>\n",
       "    </tr>\n",
       "    <tr>\n",
       "      <th>39</th>\n",
       "      <td>-9223372036854775387</td>\n",
       "      <td>dd466b60-2dcf-46ad-bf40-c0c71b36794c</td>\n",
       "      <td>35</td>\n",
       "      <td>1.08530</td>\n",
       "      <td>2019-09-30 06:36:31</td>\n",
       "      <td>2019-09-30 06:36:31</td>\n",
       "    </tr>\n",
       "  </tbody>\n",
       "</table>\n",
       "</div>"
      ],
      "text/plain": [
       "                     id                            segment_id  \\\n",
       "0  -9223372036854775538  4553b5a9-9770-4bd5-b95d-10368b72d166   \n",
       "1  -9223372036854775403  4553b5a9-9770-4bd5-b95d-10368b72d166   \n",
       "2  -9223372036854775467  c69f83bc-6909-4643-93ee-76a5ef6e3355   \n",
       "3  -9223372036854775474  dd668e71-d004-4d1c-ae11-23a4354ba1ab   \n",
       "4  -9223372036854775652  eced0299-faf7-41c1-9661-0a41a2c94b39   \n",
       "5  -9223372036854775514  57c533b9-e11c-4127-a911-d6d0e16c9aa1   \n",
       "6  -9223372036854775379  57c533b9-e11c-4127-a911-d6d0e16c9aa1   \n",
       "7  -9223372036854775443  c69f83bc-6909-4643-93ee-76a5ef6e3355   \n",
       "8  -9223372036854775628  dd466b60-2dcf-46ad-bf40-c0c71b36794c   \n",
       "9  -9223372036854775450  eced0299-faf7-41c1-9661-0a41a2c94b39   \n",
       "10 -9223372036854775660  c60570f0-3c23-41e8-975e-61e69e1010ec   \n",
       "11 -9223372036854775482  c60570f0-3c23-41e8-975e-61e69e1010ec   \n",
       "12 -9223372036854775475  c60570f0-3c23-41e8-975e-61e69e1010ec   \n",
       "13 -9223372036854775546  dd466b60-2dcf-46ad-bf40-c0c71b36794c   \n",
       "14 -9223372036854775411  eced0299-faf7-41c1-9661-0a41a2c94b39   \n",
       "15 -9223372036854775530  57c533b9-e11c-4127-a911-d6d0e16c9aa1   \n",
       "16 -9223372036854775395  57c533b9-e11c-4127-a911-d6d0e16c9aa1   \n",
       "17 -9223372036854775644  92f11563-03b2-4a5d-a463-e205662e971c   \n",
       "18 -9223372036854775466  c69f83bc-6909-4643-93ee-76a5ef6e3355   \n",
       "19 -9223372036854775459  eced0299-faf7-41c1-9661-0a41a2c94b39   \n",
       "20 -9223372036854775427  c60570f0-3c23-41e8-975e-61e69e1010ec   \n",
       "21 -9223372036854775434  c69f83bc-6909-4643-93ee-76a5ef6e3355   \n",
       "22 -9223372036854775363  dd466b60-2dcf-46ad-bf40-c0c71b36794c   \n",
       "23 -9223372036854775676  dd668e71-d004-4d1c-ae11-23a4354ba1ab   \n",
       "24 -9223372036854775498  eced0299-faf7-41c1-9661-0a41a2c94b39   \n",
       "25 -9223372036854775620  4553b5a9-9770-4bd5-b95d-10368b72d166   \n",
       "26 -9223372036854775506  4553b5a9-9770-4bd5-b95d-10368b72d166   \n",
       "27 -9223372036854775371  4553b5a9-9770-4bd5-b95d-10368b72d166   \n",
       "28 -9223372036854775442  dd668e71-d004-4d1c-ae11-23a4354ba1ab   \n",
       "29 -9223372036854775435  dd668e71-d004-4d1c-ae11-23a4354ba1ab   \n",
       "30 -9223372036854775490  92f11563-03b2-4a5d-a463-e205662e971c   \n",
       "31 -9223372036854775419  92f11563-03b2-4a5d-a463-e205662e971c   \n",
       "32 -9223372036854775426  c60570f0-3c23-41e8-975e-61e69e1010ec   \n",
       "33 -9223372036854775668  c69f83bc-6909-4643-93ee-76a5ef6e3355   \n",
       "34 -9223372036854775483  dd668e71-d004-4d1c-ae11-23a4354ba1ab   \n",
       "35 -9223372036854775636  57c533b9-e11c-4127-a911-d6d0e16c9aa1   \n",
       "36 -9223372036854775451  92f11563-03b2-4a5d-a463-e205662e971c   \n",
       "37 -9223372036854775458  92f11563-03b2-4a5d-a463-e205662e971c   \n",
       "38 -9223372036854775522  dd466b60-2dcf-46ad-bf40-c0c71b36794c   \n",
       "39 -9223372036854775387  dd466b60-2dcf-46ad-bf40-c0c71b36794c   \n",
       "\n",
       "    segment_attribute_id           value        created_time  \\\n",
       "0                     32        29.70160 2019-09-30 06:36:31   \n",
       "1                     33     53165.00000 2019-09-30 06:36:31   \n",
       "2                     35         3.66840 2019-09-30 06:36:31   \n",
       "3                     34     10139.36100 2019-09-30 06:36:31   \n",
       "4                     31    245234.40500 2019-09-30 06:36:31   \n",
       "5                     32        29.76540 2019-09-30 06:36:31   \n",
       "6                     33     20430.00000 2019-09-30 06:36:31   \n",
       "7                     33        13.00000 2019-09-30 06:36:31   \n",
       "8                     31  10460565.82350 2019-09-30 06:36:31   \n",
       "9                     32        30.18260 2019-09-30 06:36:31   \n",
       "10                    31  29572350.85780 2019-09-30 06:36:31   \n",
       "11                    34   1058557.32480 2019-09-30 06:36:31   \n",
       "12                    35         1.04000 2019-09-30 06:36:31   \n",
       "13                    34    358491.16410 2019-09-30 06:36:31   \n",
       "14                    33      8125.00000 2019-09-30 06:36:31   \n",
       "15                    34     19844.62710 2019-09-30 06:36:31   \n",
       "16                    35         0.97130 2019-09-30 06:36:31   \n",
       "17                    31    608107.58500 2019-09-30 06:36:31   \n",
       "18                    34        47.69000 2019-09-30 06:36:31   \n",
       "19                    35         0.98310 2019-09-30 06:36:31   \n",
       "20                    33   1017827.00000 2019-09-30 06:36:31   \n",
       "21                    32        67.80380 2019-09-30 06:36:31   \n",
       "22                    33    330303.00000 2019-09-30 06:36:31   \n",
       "23                    31    307014.20500 2019-09-30 06:36:31   \n",
       "24                    34      7987.74320 2019-09-30 06:36:31   \n",
       "25                    31   1579088.35000 2019-09-30 06:36:31   \n",
       "26                    34     51546.13810 2019-09-30 06:36:31   \n",
       "27                    35         0.96950 2019-09-30 06:36:31   \n",
       "28                    32        28.39830 2019-09-30 06:36:31   \n",
       "29                    33     10811.00000 2019-09-30 06:36:31   \n",
       "30                    32        29.76540 2019-09-30 06:36:31   \n",
       "31                    35         0.97130 2019-09-30 06:36:31   \n",
       "32                    32        29.05430 2019-09-30 06:36:31   \n",
       "33                    31       881.45000 2019-09-30 06:36:31   \n",
       "34                    35         0.93780 2019-09-30 06:36:31   \n",
       "35                    31    608107.58500 2019-09-30 06:36:31   \n",
       "36                    33     20430.00000 2019-09-30 06:36:31   \n",
       "37                    34     19844.62710 2019-09-30 06:36:31   \n",
       "38                    32        31.66960 2019-09-30 06:36:31   \n",
       "39                    35         1.08530 2019-09-30 06:36:31   \n",
       "\n",
       "         modified_time  \n",
       "0  2019-09-30 06:36:31  \n",
       "1  2019-09-30 06:36:31  \n",
       "2  2019-09-30 06:36:31  \n",
       "3  2019-09-30 06:36:31  \n",
       "4  2019-09-30 06:36:31  \n",
       "5  2019-09-30 06:36:31  \n",
       "6  2019-09-30 06:36:31  \n",
       "7  2019-09-30 06:36:31  \n",
       "8  2019-09-30 06:36:31  \n",
       "9  2019-09-30 06:36:31  \n",
       "10 2019-09-30 06:36:31  \n",
       "11 2019-09-30 06:36:31  \n",
       "12 2019-09-30 06:36:31  \n",
       "13 2019-09-30 06:36:31  \n",
       "14 2019-09-30 06:36:31  \n",
       "15 2019-09-30 06:36:31  \n",
       "16 2019-09-30 06:36:31  \n",
       "17 2019-09-30 06:36:31  \n",
       "18 2019-09-30 06:36:31  \n",
       "19 2019-09-30 06:36:31  \n",
       "20 2019-09-30 06:36:31  \n",
       "21 2019-09-30 06:36:31  \n",
       "22 2019-09-30 06:36:31  \n",
       "23 2019-09-30 06:36:31  \n",
       "24 2019-09-30 06:36:31  \n",
       "25 2019-09-30 06:36:31  \n",
       "26 2019-09-30 06:36:31  \n",
       "27 2019-09-30 06:36:31  \n",
       "28 2019-09-30 06:36:31  \n",
       "29 2019-09-30 06:36:31  \n",
       "30 2019-09-30 06:36:31  \n",
       "31 2019-09-30 06:36:31  \n",
       "32 2019-09-30 06:36:31  \n",
       "33 2019-09-30 06:36:31  \n",
       "34 2019-09-30 06:36:31  \n",
       "35 2019-09-30 06:36:31  \n",
       "36 2019-09-30 06:36:31  \n",
       "37 2019-09-30 06:36:31  \n",
       "38 2019-09-30 06:36:31  \n",
       "39 2019-09-30 06:36:31  "
      ]
     },
     "execution_count": 15,
     "metadata": {},
     "output_type": "execute_result"
    }
   ],
   "source": [
    "value_df"
   ]
  },
  {
   "cell_type": "code",
   "execution_count": 14,
   "metadata": {},
   "outputs": [
    {
     "ename": "DatabaseError",
     "evalue": "Execution failed on sql: Select * from content_consumed_searches_trend where date_index='20190101';\nSSL SYSCALL error: EOF detected\n\nunable to rollback",
     "output_type": "error",
     "traceback": [
      "\u001b[0;31m---------------------------------------------------------------------------\u001b[0m",
      "\u001b[0;31mOperationalError\u001b[0m                          Traceback (most recent call last)",
      "\u001b[0;32m~/Library/Python/3.7/lib/python/site-packages/pandas/io/sql.py\u001b[0m in \u001b[0;36mexecute\u001b[0;34m(self, *args, **kwargs)\u001b[0m\n\u001b[1;32m   1594\u001b[0m             \u001b[0;32melse\u001b[0m\u001b[0;34m:\u001b[0m\u001b[0;34m\u001b[0m\u001b[0;34m\u001b[0m\u001b[0m\n\u001b[0;32m-> 1595\u001b[0;31m                 \u001b[0mcur\u001b[0m\u001b[0;34m.\u001b[0m\u001b[0mexecute\u001b[0m\u001b[0;34m(\u001b[0m\u001b[0;34m*\u001b[0m\u001b[0margs\u001b[0m\u001b[0;34m)\u001b[0m\u001b[0;34m\u001b[0m\u001b[0;34m\u001b[0m\u001b[0m\n\u001b[0m\u001b[1;32m   1596\u001b[0m             \u001b[0;32mreturn\u001b[0m \u001b[0mcur\u001b[0m\u001b[0;34m\u001b[0m\u001b[0;34m\u001b[0m\u001b[0m\n",
      "\u001b[0;31mOperationalError\u001b[0m: SSL SYSCALL error: EOF detected\n",
      "\nDuring handling of the above exception, another exception occurred:\n",
      "\u001b[0;31mInterfaceError\u001b[0m                            Traceback (most recent call last)",
      "\u001b[0;32m~/Library/Python/3.7/lib/python/site-packages/pandas/io/sql.py\u001b[0m in \u001b[0;36mexecute\u001b[0;34m(self, *args, **kwargs)\u001b[0m\n\u001b[1;32m   1598\u001b[0m             \u001b[0;32mtry\u001b[0m\u001b[0;34m:\u001b[0m\u001b[0;34m\u001b[0m\u001b[0;34m\u001b[0m\u001b[0m\n\u001b[0;32m-> 1599\u001b[0;31m                 \u001b[0mself\u001b[0m\u001b[0;34m.\u001b[0m\u001b[0mcon\u001b[0m\u001b[0;34m.\u001b[0m\u001b[0mrollback\u001b[0m\u001b[0;34m(\u001b[0m\u001b[0;34m)\u001b[0m\u001b[0;34m\u001b[0m\u001b[0;34m\u001b[0m\u001b[0m\n\u001b[0m\u001b[1;32m   1600\u001b[0m             \u001b[0;32mexcept\u001b[0m \u001b[0mException\u001b[0m\u001b[0;34m:\u001b[0m  \u001b[0;31m# pragma: no cover\u001b[0m\u001b[0;34m\u001b[0m\u001b[0;34m\u001b[0m\u001b[0m\n",
      "\u001b[0;31mInterfaceError\u001b[0m: connection already closed",
      "\nDuring handling of the above exception, another exception occurred:\n",
      "\u001b[0;31mDatabaseError\u001b[0m                             Traceback (most recent call last)",
      "\u001b[0;32m<ipython-input-14-3d25de49d69a>\u001b[0m in \u001b[0;36m<module>\u001b[0;34m\u001b[0m\n\u001b[1;32m      1\u001b[0m \u001b[0msql_db1\u001b[0m \u001b[0;34m=\u001b[0m \u001b[0;34m'''Select * from content_consumed_searches_trend where date_index='20190101';'''\u001b[0m\u001b[0;34m\u001b[0m\u001b[0;34m\u001b[0m\u001b[0m\n\u001b[1;32m      2\u001b[0m \u001b[0msql_db2\u001b[0m \u001b[0;34m=\u001b[0m \u001b[0;34m'''Select * from segment_customers limit 10000;'''\u001b[0m\u001b[0;34m\u001b[0m\u001b[0;34m\u001b[0m\u001b[0m\n\u001b[0;32m----> 3\u001b[0;31m \u001b[0mdf_a\u001b[0m \u001b[0;34m=\u001b[0m \u001b[0mpd\u001b[0m\u001b[0;34m.\u001b[0m\u001b[0mread_sql_query\u001b[0m\u001b[0;34m(\u001b[0m\u001b[0msql_db1\u001b[0m\u001b[0;34m,\u001b[0m \u001b[0mcon\u001b[0m\u001b[0;34m=\u001b[0m\u001b[0mconn1\u001b[0m\u001b[0;34m)\u001b[0m\u001b[0;34m\u001b[0m\u001b[0;34m\u001b[0m\u001b[0m\n\u001b[0m\u001b[1;32m      4\u001b[0m \u001b[0mdf_b\u001b[0m \u001b[0;34m=\u001b[0m \u001b[0mpd\u001b[0m\u001b[0;34m.\u001b[0m\u001b[0mread_sql_query\u001b[0m\u001b[0;34m(\u001b[0m\u001b[0msql_db2\u001b[0m\u001b[0;34m,\u001b[0m \u001b[0mcon\u001b[0m\u001b[0;34m=\u001b[0m\u001b[0mconn1\u001b[0m\u001b[0;34m)\u001b[0m\u001b[0;34m\u001b[0m\u001b[0;34m\u001b[0m\u001b[0m\n\u001b[1;32m      5\u001b[0m \u001b[0mdf_x\u001b[0m \u001b[0;34m=\u001b[0m \u001b[0mdf_a\u001b[0m\u001b[0;34m.\u001b[0m\u001b[0mmerge\u001b[0m\u001b[0;34m(\u001b[0m\u001b[0mdf_b\u001b[0m\u001b[0;34m,\u001b[0m \u001b[0mleft_on\u001b[0m\u001b[0;34m=\u001b[0m\u001b[0;34m'user_id'\u001b[0m\u001b[0;34m,\u001b[0m \u001b[0mright_on\u001b[0m\u001b[0;34m=\u001b[0m\u001b[0;34m'customer_id'\u001b[0m\u001b[0;34m)\u001b[0m\u001b[0;34m\u001b[0m\u001b[0;34m\u001b[0m\u001b[0m\n",
      "\u001b[0;32m~/Library/Python/3.7/lib/python/site-packages/pandas/io/sql.py\u001b[0m in \u001b[0;36mread_sql_query\u001b[0;34m(sql, con, index_col, coerce_float, params, parse_dates, chunksize)\u001b[0m\n\u001b[1;32m    330\u001b[0m         \u001b[0mcoerce_float\u001b[0m\u001b[0;34m=\u001b[0m\u001b[0mcoerce_float\u001b[0m\u001b[0;34m,\u001b[0m\u001b[0;34m\u001b[0m\u001b[0;34m\u001b[0m\u001b[0m\n\u001b[1;32m    331\u001b[0m         \u001b[0mparse_dates\u001b[0m\u001b[0;34m=\u001b[0m\u001b[0mparse_dates\u001b[0m\u001b[0;34m,\u001b[0m\u001b[0;34m\u001b[0m\u001b[0;34m\u001b[0m\u001b[0m\n\u001b[0;32m--> 332\u001b[0;31m         \u001b[0mchunksize\u001b[0m\u001b[0;34m=\u001b[0m\u001b[0mchunksize\u001b[0m\u001b[0;34m,\u001b[0m\u001b[0;34m\u001b[0m\u001b[0;34m\u001b[0m\u001b[0m\n\u001b[0m\u001b[1;32m    333\u001b[0m     )\n\u001b[1;32m    334\u001b[0m \u001b[0;34m\u001b[0m\u001b[0m\n",
      "\u001b[0;32m~/Library/Python/3.7/lib/python/site-packages/pandas/io/sql.py\u001b[0m in \u001b[0;36mread_query\u001b[0;34m(self, sql, index_col, coerce_float, params, parse_dates, chunksize)\u001b[0m\n\u001b[1;32m   1643\u001b[0m \u001b[0;34m\u001b[0m\u001b[0m\n\u001b[1;32m   1644\u001b[0m         \u001b[0margs\u001b[0m \u001b[0;34m=\u001b[0m \u001b[0m_convert_params\u001b[0m\u001b[0;34m(\u001b[0m\u001b[0msql\u001b[0m\u001b[0;34m,\u001b[0m \u001b[0mparams\u001b[0m\u001b[0;34m)\u001b[0m\u001b[0;34m\u001b[0m\u001b[0;34m\u001b[0m\u001b[0m\n\u001b[0;32m-> 1645\u001b[0;31m         \u001b[0mcursor\u001b[0m \u001b[0;34m=\u001b[0m \u001b[0mself\u001b[0m\u001b[0;34m.\u001b[0m\u001b[0mexecute\u001b[0m\u001b[0;34m(\u001b[0m\u001b[0;34m*\u001b[0m\u001b[0margs\u001b[0m\u001b[0;34m)\u001b[0m\u001b[0;34m\u001b[0m\u001b[0;34m\u001b[0m\u001b[0m\n\u001b[0m\u001b[1;32m   1646\u001b[0m         \u001b[0mcolumns\u001b[0m \u001b[0;34m=\u001b[0m \u001b[0;34m[\u001b[0m\u001b[0mcol_desc\u001b[0m\u001b[0;34m[\u001b[0m\u001b[0;36m0\u001b[0m\u001b[0;34m]\u001b[0m \u001b[0;32mfor\u001b[0m \u001b[0mcol_desc\u001b[0m \u001b[0;32min\u001b[0m \u001b[0mcursor\u001b[0m\u001b[0;34m.\u001b[0m\u001b[0mdescription\u001b[0m\u001b[0;34m]\u001b[0m\u001b[0;34m\u001b[0m\u001b[0;34m\u001b[0m\u001b[0m\n\u001b[1;32m   1647\u001b[0m \u001b[0;34m\u001b[0m\u001b[0m\n",
      "\u001b[0;32m~/Library/Python/3.7/lib/python/site-packages/pandas/io/sql.py\u001b[0m in \u001b[0;36mexecute\u001b[0;34m(self, *args, **kwargs)\u001b[0m\n\u001b[1;32m   1603\u001b[0m                     \u001b[0;34m\"to rollback\"\u001b[0m\u001b[0;34m.\u001b[0m\u001b[0mformat\u001b[0m\u001b[0;34m(\u001b[0m\u001b[0msql\u001b[0m\u001b[0;34m=\u001b[0m\u001b[0margs\u001b[0m\u001b[0;34m[\u001b[0m\u001b[0;36m0\u001b[0m\u001b[0;34m]\u001b[0m\u001b[0;34m,\u001b[0m \u001b[0mexc\u001b[0m\u001b[0;34m=\u001b[0m\u001b[0mexc\u001b[0m\u001b[0;34m)\u001b[0m\u001b[0;34m\u001b[0m\u001b[0;34m\u001b[0m\u001b[0m\n\u001b[1;32m   1604\u001b[0m                 )\n\u001b[0;32m-> 1605\u001b[0;31m                 \u001b[0mraise_with_traceback\u001b[0m\u001b[0;34m(\u001b[0m\u001b[0mex\u001b[0m\u001b[0;34m)\u001b[0m\u001b[0;34m\u001b[0m\u001b[0;34m\u001b[0m\u001b[0m\n\u001b[0m\u001b[1;32m   1606\u001b[0m \u001b[0;34m\u001b[0m\u001b[0m\n\u001b[1;32m   1607\u001b[0m             ex = DatabaseError(\n",
      "\u001b[0;32m~/Library/Python/3.7/lib/python/site-packages/pandas/compat/__init__.py\u001b[0m in \u001b[0;36mraise_with_traceback\u001b[0;34m(exc, traceback)\u001b[0m\n\u001b[1;32m     42\u001b[0m     \u001b[0;32mif\u001b[0m \u001b[0mtraceback\u001b[0m \u001b[0;34m==\u001b[0m \u001b[0mEllipsis\u001b[0m\u001b[0;34m:\u001b[0m\u001b[0;34m\u001b[0m\u001b[0;34m\u001b[0m\u001b[0m\n\u001b[1;32m     43\u001b[0m         \u001b[0m_\u001b[0m\u001b[0;34m,\u001b[0m \u001b[0m_\u001b[0m\u001b[0;34m,\u001b[0m \u001b[0mtraceback\u001b[0m \u001b[0;34m=\u001b[0m \u001b[0msys\u001b[0m\u001b[0;34m.\u001b[0m\u001b[0mexc_info\u001b[0m\u001b[0;34m(\u001b[0m\u001b[0;34m)\u001b[0m\u001b[0;34m\u001b[0m\u001b[0;34m\u001b[0m\u001b[0m\n\u001b[0;32m---> 44\u001b[0;31m     \u001b[0;32mraise\u001b[0m \u001b[0mexc\u001b[0m\u001b[0;34m.\u001b[0m\u001b[0mwith_traceback\u001b[0m\u001b[0;34m(\u001b[0m\u001b[0mtraceback\u001b[0m\u001b[0;34m)\u001b[0m\u001b[0;34m\u001b[0m\u001b[0;34m\u001b[0m\u001b[0m\n\u001b[0m\u001b[1;32m     45\u001b[0m \u001b[0;34m\u001b[0m\u001b[0m\n\u001b[1;32m     46\u001b[0m \u001b[0;34m\u001b[0m\u001b[0m\n",
      "\u001b[0;32m~/Library/Python/3.7/lib/python/site-packages/pandas/io/sql.py\u001b[0m in \u001b[0;36mexecute\u001b[0;34m(self, *args, **kwargs)\u001b[0m\n\u001b[1;32m   1597\u001b[0m         \u001b[0;32mexcept\u001b[0m \u001b[0mException\u001b[0m \u001b[0;32mas\u001b[0m \u001b[0mexc\u001b[0m\u001b[0;34m:\u001b[0m\u001b[0;34m\u001b[0m\u001b[0;34m\u001b[0m\u001b[0m\n\u001b[1;32m   1598\u001b[0m             \u001b[0;32mtry\u001b[0m\u001b[0;34m:\u001b[0m\u001b[0;34m\u001b[0m\u001b[0;34m\u001b[0m\u001b[0m\n\u001b[0;32m-> 1599\u001b[0;31m                 \u001b[0mself\u001b[0m\u001b[0;34m.\u001b[0m\u001b[0mcon\u001b[0m\u001b[0;34m.\u001b[0m\u001b[0mrollback\u001b[0m\u001b[0;34m(\u001b[0m\u001b[0;34m)\u001b[0m\u001b[0;34m\u001b[0m\u001b[0;34m\u001b[0m\u001b[0m\n\u001b[0m\u001b[1;32m   1600\u001b[0m             \u001b[0;32mexcept\u001b[0m \u001b[0mException\u001b[0m\u001b[0;34m:\u001b[0m  \u001b[0;31m# pragma: no cover\u001b[0m\u001b[0;34m\u001b[0m\u001b[0;34m\u001b[0m\u001b[0m\n\u001b[1;32m   1601\u001b[0m                 ex = DatabaseError(\n",
      "\u001b[0;31mDatabaseError\u001b[0m: Execution failed on sql: Select * from content_consumed_searches_trend where date_index='20190101';\nSSL SYSCALL error: EOF detected\n\nunable to rollback"
     ]
    }
   ],
   "source": [
    "sql_db1 = '''Select * from content_consumed_searches_trend where year=2019;'''\n",
    "sql_db2 = '''Select * from segment_customers;'''\n",
    "df_a = pd.read_sql_query(sql_db1, con=conn1)\n",
    "df_b = pd.read_sql_query(sql_db2, con=conn1)\n",
    "df_x = df_a.merge(df_b, left_on='user_id', right_on='customer_id')"
   ]
  },
  {
   "cell_type": "code",
   "execution_count": 13,
   "metadata": {},
   "outputs": [
    {
     "data": {
      "text/html": [
       "<div>\n",
       "<style scoped>\n",
       "    .dataframe tbody tr th:only-of-type {\n",
       "        vertical-align: middle;\n",
       "    }\n",
       "\n",
       "    .dataframe tbody tr th {\n",
       "        vertical-align: top;\n",
       "    }\n",
       "\n",
       "    .dataframe thead th {\n",
       "        text-align: right;\n",
       "    }\n",
       "</style>\n",
       "<table border=\"1\" class=\"dataframe\">\n",
       "  <thead>\n",
       "    <tr style=\"text-align: right;\">\n",
       "      <th></th>\n",
       "      <th>id_x</th>\n",
       "      <th>user_id</th>\n",
       "      <th>y</th>\n",
       "      <th>m</th>\n",
       "      <th>w</th>\n",
       "      <th>dw</th>\n",
       "      <th>date_index</th>\n",
       "      <th>total_thread_view</th>\n",
       "      <th>total_searches</th>\n",
       "      <th>created_time</th>\n",
       "      <th>modified_time</th>\n",
       "      <th>id_y</th>\n",
       "      <th>segment_id</th>\n",
       "      <th>customer_id</th>\n",
       "    </tr>\n",
       "  </thead>\n",
       "  <tbody>\n",
       "  </tbody>\n",
       "</table>\n",
       "</div>"
      ],
      "text/plain": [
       "Empty DataFrame\n",
       "Columns: [id_x, user_id, y, m, w, dw, date_index, total_thread_view, total_searches, created_time, modified_time, id_y, segment_id, customer_id]\n",
       "Index: []"
      ]
     },
     "execution_count": 13,
     "metadata": {},
     "output_type": "execute_result"
    }
   ],
   "source": [
    "df_x"
   ]
  },
  {
   "cell_type": "code",
   "execution_count": null,
   "metadata": {},
   "outputs": [],
   "source": []
  },
  {
   "cell_type": "code",
   "execution_count": null,
   "metadata": {},
   "outputs": [],
   "source": []
  },
  {
   "cell_type": "code",
   "execution_count": null,
   "metadata": {},
   "outputs": [],
   "source": []
  },
  {
   "cell_type": "code",
   "execution_count": null,
   "metadata": {},
   "outputs": [],
   "source": []
  },
  {
   "cell_type": "code",
   "execution_count": null,
   "metadata": {},
   "outputs": [],
   "source": []
  },
  {
   "cell_type": "code",
   "execution_count": null,
   "metadata": {},
   "outputs": [],
   "source": []
  },
  {
   "cell_type": "markdown",
   "metadata": {},
   "source": []
  },
  {
   "cell_type": "code",
   "execution_count": null,
   "metadata": {},
   "outputs": [],
   "source": []
  },
  {
   "cell_type": "code",
   "execution_count": null,
   "metadata": {},
   "outputs": [],
   "source": []
  },
  {
   "cell_type": "code",
   "execution_count": null,
   "metadata": {},
   "outputs": [],
   "source": []
  },
  {
   "cell_type": "code",
   "execution_count": 183,
   "metadata": {},
   "outputs": [],
   "source": []
  },
  {
   "cell_type": "code",
   "execution_count": 167,
   "metadata": {},
   "outputs": [],
   "source": []
  },
  {
   "cell_type": "code",
   "execution_count": null,
   "metadata": {},
   "outputs": [],
   "source": []
  },
  {
   "cell_type": "code",
   "execution_count": 171,
   "metadata": {},
   "outputs": [
    {
     "ename": "SyntaxError",
     "evalue": "invalid syntax (<ipython-input-171-7195cb8985a6>, line 4)",
     "output_type": "error",
     "traceback": [
      "\u001b[0;36m  File \u001b[0;32m\"<ipython-input-171-7195cb8985a6>\"\u001b[0;36m, line \u001b[0;32m4\u001b[0m\n\u001b[0;31m    prev = user_data_dictionary.get(, {})\u001b[0m\n\u001b[0m                                    ^\u001b[0m\n\u001b[0;31mSyntaxError\u001b[0m\u001b[0;31m:\u001b[0m invalid syntax\n"
     ]
    }
   ],
   "source": [
    "user_data_dictionary = {}\n",
    "for index, row in mdf.iterrows():\n",
    "    user_id, channel, foot = row['user_id'], row['channel'], row['number_of_footsteps']\n",
    "    prev = user_data_dictionary.get(user_id, {})\n",
    "    prev[channel] = foot\n",
    "    user_data_dictionary[user_id] = prev\n",
    "\n"
   ]
  },
  {
   "cell_type": "code",
   "execution_count": 190,
   "metadata": {},
   "outputs": [],
   "source": []
  },
  {
   "cell_type": "code",
   "execution_count": 10,
   "metadata": {},
   "outputs": [
    {
     "data": {
      "text/plain": [
       "{'Mobile': 1}"
      ]
     },
     "execution_count": 10,
     "metadata": {},
     "output_type": "execute_result"
    }
   ],
   "source": [
    "user_data_dictionary['-9223372035815002130']"
   ]
  },
  {
   "cell_type": "code",
   "execution_count": 186,
   "metadata": {},
   "outputs": [],
   "source": [
    "import json"
   ]
  },
  {
   "cell_type": "code",
   "execution_count": 189,
   "metadata": {},
   "outputs": [
    {
     "data": {
      "text/plain": [
       "'{\"c60570f0-3c23-41e8-975e-61e69e1010ec\": {\"value_threads_viewed\": [6, 3, 1]}, \"dd466b60-2dcf-46ad-bf40-c0c71b36794c\": {\"value_threads_viewed\": [6, 6, 6]}, \"4553b5a9-9770-4bd5-b95d-10368b72d166\": {\"value_threads_viewed\": [3, 3, 3]}, \"92f11563-03b2-4a5d-a463-e205662e971c\": {\"value_threads_viewed\": [1, 0, 0]}, \"57c533b9-e11c-4127-a911-d6d0e16c9aa1\": {\"value_threads_viewed\": [0, 0, 0]}, \"eced0299-faf7-41c1-9661-0a41a2c94b39\": {\"value_threads_viewed\": [1, 1, 1]}, \"dd668e71-d004-4d1c-ae11-23a4354ba1ab\": {\"value_threads_viewed\": [5, 5, 5]}, \"c69f83bc-6909-4643-93ee-76a5ef6e3355\": {\"value_threads_viewed\": [1, 1, 1]}}'"
      ]
     },
     "execution_count": 189,
     "metadata": {},
     "output_type": "execute_result"
    }
   ],
   "source": [
    "json.dumps(user_data_dictionary)"
   ]
  },
  {
   "cell_type": "code",
   "execution_count": 191,
   "metadata": {},
   "outputs": [
    {
     "data": {
      "text/plain": [
       "{'c60570f0-3c23-41e8-975e-61e69e1010ec': {'value_threads_viewed': (6, 3, 1)},\n",
       " 'dd466b60-2dcf-46ad-bf40-c0c71b36794c': {'value_threads_viewed': (6, 6, 6)},\n",
       " '4553b5a9-9770-4bd5-b95d-10368b72d166': {'value_threads_viewed': (3, 3, 3)},\n",
       " '92f11563-03b2-4a5d-a463-e205662e971c': {'value_threads_viewed': (1, 0, 0)},\n",
       " '57c533b9-e11c-4127-a911-d6d0e16c9aa1': {'value_threads_viewed': (0, 0, 0)},\n",
       " 'eced0299-faf7-41c1-9661-0a41a2c94b39': {'value_threads_viewed': (1, 1, 1)},\n",
       " 'dd668e71-d004-4d1c-ae11-23a4354ba1ab': {'value_threads_viewed': (5, 5, 5)},\n",
       " 'c69f83bc-6909-4643-93ee-76a5ef6e3355': {'value_threads_viewed': (1, 1, 1)}}"
      ]
     },
     "execution_count": 191,
     "metadata": {},
     "output_type": "execute_result"
    }
   ],
   "source": [
    "dfN"
   ]
  },
  {
   "cell_type": "code",
   "execution_count": null,
   "metadata": {},
   "outputs": [],
   "source": []
  },
  {
   "cell_type": "code",
   "execution_count": null,
   "metadata": {},
   "outputs": [],
   "source": []
  },
  {
   "cell_type": "code",
   "execution_count": 55,
   "metadata": {},
   "outputs": [],
   "source": [
    "user_df = pd.read_sql_query('select id from segment', con=conn2)\n",
    "value_df = pd.read_sql_query('select * from segment_attribute_time_value where segment_attribute_id in (1,2,3,4,5,6,9) and attribute_granularity_id = 1;', con=conn2)\n",
    "attr_df = pd.read_sql_query('select id, name from segment_attribute where id in (1,2,3,4,5,6,9);', con=conn2)\n",
    "\n",
    "final_df = pd.merge(attr_df, value_df, how='left', left_on='id', right_on='segment_attribute_id')\n",
    "final_df = pd.pivot_table(final_df, columns=['name'], index=['segment_id', 'date_index', 'year', 'month', 'week','weekday'], values=['value'], aggfunc=max).reset_index()\n",
    "final_df.columns =['_'.join(col).rstrip('_') for col in final_df.columns.values]\n",
    "df_final= final_df.rename(columns={'year':'y', 'month':'m', 'week':'w', 'weekday':'dw','value_sum_net_transaction_amount':'total_transaction_amount','value_avg_net_transaction_amount':'avg_transaction_amount','value_transactions_frequency':'transactions_frequency','value_sum_net_total_commission':'total_commission','value_avg_net_total_commission':'avg_total_commission','value_average_total_transaction_amount_per_customer':'average_total_transaction_amount_per_customer','value_average_total_commission_per_customer':'average_total_commission_per_customer'})\n"
   ]
  },
  {
   "cell_type": "code",
   "execution_count": 56,
   "metadata": {},
   "outputs": [
    {
     "data": {
      "text/plain": [
       "Index(['segment_id', 'date_index', 'y', 'm', 'w', 'dw',\n",
       "       'average_total_commission_per_customer',\n",
       "       'average_total_transaction_amount_per_customer', 'avg_total_commission',\n",
       "       'avg_transaction_amount', 'total_commission',\n",
       "       'total_transaction_amount', 'transactions_frequency'],\n",
       "      dtype='object')"
      ]
     },
     "execution_count": 56,
     "metadata": {},
     "output_type": "execute_result"
    }
   ],
   "source": [
    "df_final.columns"
   ]
  },
  {
   "cell_type": "code",
   "execution_count": 57,
   "metadata": {},
   "outputs": [],
   "source": [
    "df1=pd.merge(df_final, user_df, how='left', left_on='segment_id', right_on='id')\n",
    "df1 = df1[['date_index', 'y', 'm', 'w', 'dw', 'segment_id','total_transaction_amount', 'avg_transaction_amount', 'transactions_frequency', 'total_commission', 'avg_total_commission', 'average_total_transaction_amount_per_customer', 'average_total_commission_per_customer' ]]\n"
   ]
  },
  {
   "cell_type": "code",
   "execution_count": 58,
   "metadata": {},
   "outputs": [
    {
     "data": {
      "text/plain": [
       "Index(['date_index', 'y', 'm', 'w', 'dw', 'segment_id',\n",
       "       'total_transaction_amount', 'avg_transaction_amount',\n",
       "       'transactions_frequency', 'total_commission', 'avg_total_commission',\n",
       "       'average_total_transaction_amount_per_customer',\n",
       "       'average_total_commission_per_customer'],\n",
       "      dtype='object')"
      ]
     },
     "execution_count": 58,
     "metadata": {},
     "output_type": "execute_result"
    }
   ],
   "source": [
    "df1.columns"
   ]
  },
  {
   "cell_type": "code",
   "execution_count": null,
   "metadata": {},
   "outputs": [],
   "source": [
    " ('avg_transaction_amount', \n",
    "  'avg_total_commission', \n",
    "  'average_total_transaction_amount_per_customer', \n",
    "  'average_total_commission_per_customer'"
   ]
  },
  {
   "cell_type": "code",
   "execution_count": 83,
   "metadata": {},
   "outputs": [],
   "source": [
    "final_df = pd.merge(attr_df, value_df, how='left', left_on='id', right_on='segment_attribute_id')\n",
    "final_df = pd.pivot_table(final_df, columns=['name'], index=['segment_id', 'date_index', 'year', 'month', 'week','weekday'], values=['value'], aggfunc=max).reset_index()\n",
    "final_df.columns =['_'.join(col).rstrip('_') for col in final_df.columns.values]\n",
    "df_final= final_df.rename(columns={'year':'y', 'month':'m', 'week':'w', 'weekday':'dw','value_content_consumed_threads_viewed':'total_thread_view','value_content_consumed_searches':'total_searches','value_average_thread_views_per_user':'average_thread_views_per_user','value_average_searches_per_user':'average_searches_per_user'})\n"
   ]
  },
  {
   "cell_type": "code",
   "execution_count": 84,
   "metadata": {},
   "outputs": [
    {
     "ename": "KeyError",
     "evalue": "'segment_id'",
     "output_type": "error",
     "traceback": [
      "\u001b[0;31m---------------------------------------------------------------------------\u001b[0m",
      "\u001b[0;31mKeyError\u001b[0m                                  Traceback (most recent call last)",
      "\u001b[0;32m<ipython-input-84-cb0c025036d4>\u001b[0m in \u001b[0;36m<module>\u001b[0;34m\u001b[0m\n\u001b[0;32m----> 1\u001b[0;31m \u001b[0mdf1\u001b[0m\u001b[0;34m=\u001b[0m\u001b[0mpd\u001b[0m\u001b[0;34m.\u001b[0m\u001b[0mmerge\u001b[0m\u001b[0;34m(\u001b[0m\u001b[0mdf_final\u001b[0m\u001b[0;34m,\u001b[0m \u001b[0muser_df\u001b[0m\u001b[0;34m,\u001b[0m \u001b[0mhow\u001b[0m\u001b[0;34m=\u001b[0m\u001b[0;34m'left'\u001b[0m\u001b[0;34m,\u001b[0m \u001b[0mleft_on\u001b[0m\u001b[0;34m=\u001b[0m\u001b[0;34m'segment_id'\u001b[0m\u001b[0;34m,\u001b[0m \u001b[0mright_on\u001b[0m\u001b[0;34m=\u001b[0m\u001b[0;34m'id'\u001b[0m\u001b[0;34m)\u001b[0m\u001b[0;34m\u001b[0m\u001b[0;34m\u001b[0m\u001b[0m\n\u001b[0m\u001b[1;32m      2\u001b[0m \u001b[0mdf1\u001b[0m \u001b[0;34m=\u001b[0m \u001b[0mdf1\u001b[0m\u001b[0;34m[\u001b[0m\u001b[0;34m[\u001b[0m\u001b[0;34m'date_index'\u001b[0m\u001b[0;34m,\u001b[0m \u001b[0;34m'y'\u001b[0m\u001b[0;34m,\u001b[0m \u001b[0;34m'm'\u001b[0m\u001b[0;34m,\u001b[0m \u001b[0;34m'w'\u001b[0m\u001b[0;34m,\u001b[0m \u001b[0;34m'dw'\u001b[0m\u001b[0;34m,\u001b[0m\u001b[0;34m'segment_id'\u001b[0m\u001b[0;34m,\u001b[0m\u001b[0;34m'total_thread_view'\u001b[0m\u001b[0;34m,\u001b[0m\u001b[0;34m'total_searches'\u001b[0m\u001b[0;34m,\u001b[0m\u001b[0;34m'average_thread_views_per_user'\u001b[0m\u001b[0;34m,\u001b[0m\u001b[0;34m'average_searches_per_user'\u001b[0m \u001b[0;34m]\u001b[0m\u001b[0;34m]\u001b[0m\u001b[0;34m\u001b[0m\u001b[0;34m\u001b[0m\u001b[0m\n\u001b[1;32m      3\u001b[0m \u001b[0mdf1\u001b[0m\u001b[0;34m[\u001b[0m\u001b[0;34m'average_thread_views_per_user'\u001b[0m\u001b[0;34m]\u001b[0m \u001b[0;34m=\u001b[0m \u001b[0mdf1\u001b[0m\u001b[0;34m[\u001b[0m\u001b[0;34m'average_thread_views_per_user'\u001b[0m\u001b[0;34m]\u001b[0m\u001b[0;34m.\u001b[0m\u001b[0mastype\u001b[0m\u001b[0;34m(\u001b[0m\u001b[0mfloat\u001b[0m\u001b[0;34m)\u001b[0m\u001b[0;34m\u001b[0m\u001b[0;34m\u001b[0m\u001b[0m\n\u001b[1;32m      4\u001b[0m \u001b[0mdf1\u001b[0m\u001b[0;34m[\u001b[0m\u001b[0;34m'average_searches_per_user'\u001b[0m\u001b[0;34m]\u001b[0m \u001b[0;34m=\u001b[0m \u001b[0mdf1\u001b[0m\u001b[0;34m[\u001b[0m\u001b[0;34m'average_searches_per_user'\u001b[0m\u001b[0;34m]\u001b[0m\u001b[0;34m.\u001b[0m\u001b[0mastype\u001b[0m\u001b[0;34m(\u001b[0m\u001b[0mfloat\u001b[0m\u001b[0;34m)\u001b[0m\u001b[0;34m\u001b[0m\u001b[0;34m\u001b[0m\u001b[0m\n\u001b[1;32m      5\u001b[0m \u001b[0mdf1\u001b[0m\u001b[0;34m.\u001b[0m\u001b[0msort_values\u001b[0m\u001b[0;34m(\u001b[0m\u001b[0;34m[\u001b[0m\u001b[0;34m'segment_id'\u001b[0m\u001b[0;34m,\u001b[0m \u001b[0;34m'y'\u001b[0m\u001b[0;34m,\u001b[0m \u001b[0;34m'm'\u001b[0m\u001b[0;34m,\u001b[0m \u001b[0;34m'w'\u001b[0m\u001b[0;34m,\u001b[0m \u001b[0;34m'dw'\u001b[0m\u001b[0;34m,\u001b[0m \u001b[0;34m'date_index'\u001b[0m\u001b[0;34m]\u001b[0m\u001b[0;34m,\u001b[0m \u001b[0mascending\u001b[0m \u001b[0;34m=\u001b[0m \u001b[0;32mTrue\u001b[0m\u001b[0;34m,\u001b[0m \u001b[0minplace\u001b[0m \u001b[0;34m=\u001b[0m \u001b[0;32mTrue\u001b[0m\u001b[0;34m)\u001b[0m\u001b[0;34m\u001b[0m\u001b[0;34m\u001b[0m\u001b[0m\n",
      "\u001b[0;32m~/Library/Python/3.7/lib/python/site-packages/pandas/core/reshape/merge.py\u001b[0m in \u001b[0;36mmerge\u001b[0;34m(left, right, how, on, left_on, right_on, left_index, right_index, sort, suffixes, copy, indicator, validate)\u001b[0m\n\u001b[1;32m     80\u001b[0m         \u001b[0mcopy\u001b[0m\u001b[0;34m=\u001b[0m\u001b[0mcopy\u001b[0m\u001b[0;34m,\u001b[0m\u001b[0;34m\u001b[0m\u001b[0;34m\u001b[0m\u001b[0m\n\u001b[1;32m     81\u001b[0m         \u001b[0mindicator\u001b[0m\u001b[0;34m=\u001b[0m\u001b[0mindicator\u001b[0m\u001b[0;34m,\u001b[0m\u001b[0;34m\u001b[0m\u001b[0;34m\u001b[0m\u001b[0m\n\u001b[0;32m---> 82\u001b[0;31m         \u001b[0mvalidate\u001b[0m\u001b[0;34m=\u001b[0m\u001b[0mvalidate\u001b[0m\u001b[0;34m,\u001b[0m\u001b[0;34m\u001b[0m\u001b[0;34m\u001b[0m\u001b[0m\n\u001b[0m\u001b[1;32m     83\u001b[0m     )\n\u001b[1;32m     84\u001b[0m     \u001b[0;32mreturn\u001b[0m \u001b[0mop\u001b[0m\u001b[0;34m.\u001b[0m\u001b[0mget_result\u001b[0m\u001b[0;34m(\u001b[0m\u001b[0;34m)\u001b[0m\u001b[0;34m\u001b[0m\u001b[0;34m\u001b[0m\u001b[0m\n",
      "\u001b[0;32m~/Library/Python/3.7/lib/python/site-packages/pandas/core/reshape/merge.py\u001b[0m in \u001b[0;36m__init__\u001b[0;34m(self, left, right, how, on, left_on, right_on, axis, left_index, right_index, sort, suffixes, copy, indicator, validate)\u001b[0m\n\u001b[1;32m    625\u001b[0m             \u001b[0mself\u001b[0m\u001b[0;34m.\u001b[0m\u001b[0mright_join_keys\u001b[0m\u001b[0;34m,\u001b[0m\u001b[0;34m\u001b[0m\u001b[0;34m\u001b[0m\u001b[0m\n\u001b[1;32m    626\u001b[0m             \u001b[0mself\u001b[0m\u001b[0;34m.\u001b[0m\u001b[0mjoin_names\u001b[0m\u001b[0;34m,\u001b[0m\u001b[0;34m\u001b[0m\u001b[0;34m\u001b[0m\u001b[0m\n\u001b[0;32m--> 627\u001b[0;31m         ) = self._get_merge_keys()\n\u001b[0m\u001b[1;32m    628\u001b[0m \u001b[0;34m\u001b[0m\u001b[0m\n\u001b[1;32m    629\u001b[0m         \u001b[0;31m# validate the merge keys dtypes. We may need to coerce\u001b[0m\u001b[0;34m\u001b[0m\u001b[0;34m\u001b[0m\u001b[0;34m\u001b[0m\u001b[0m\n",
      "\u001b[0;32m~/Library/Python/3.7/lib/python/site-packages/pandas/core/reshape/merge.py\u001b[0m in \u001b[0;36m_get_merge_keys\u001b[0;34m(self)\u001b[0m\n\u001b[1;32m    987\u001b[0m                         \u001b[0mright_keys\u001b[0m\u001b[0;34m.\u001b[0m\u001b[0mappend\u001b[0m\u001b[0;34m(\u001b[0m\u001b[0mrk\u001b[0m\u001b[0;34m)\u001b[0m\u001b[0;34m\u001b[0m\u001b[0;34m\u001b[0m\u001b[0m\n\u001b[1;32m    988\u001b[0m                     \u001b[0;32mif\u001b[0m \u001b[0mlk\u001b[0m \u001b[0;32mis\u001b[0m \u001b[0;32mnot\u001b[0m \u001b[0;32mNone\u001b[0m\u001b[0;34m:\u001b[0m\u001b[0;34m\u001b[0m\u001b[0;34m\u001b[0m\u001b[0m\n\u001b[0;32m--> 989\u001b[0;31m                         \u001b[0mleft_keys\u001b[0m\u001b[0;34m.\u001b[0m\u001b[0mappend\u001b[0m\u001b[0;34m(\u001b[0m\u001b[0mleft\u001b[0m\u001b[0;34m.\u001b[0m\u001b[0m_get_label_or_level_values\u001b[0m\u001b[0;34m(\u001b[0m\u001b[0mlk\u001b[0m\u001b[0;34m)\u001b[0m\u001b[0;34m)\u001b[0m\u001b[0;34m\u001b[0m\u001b[0;34m\u001b[0m\u001b[0m\n\u001b[0m\u001b[1;32m    990\u001b[0m                         \u001b[0mjoin_names\u001b[0m\u001b[0;34m.\u001b[0m\u001b[0mappend\u001b[0m\u001b[0;34m(\u001b[0m\u001b[0mlk\u001b[0m\u001b[0;34m)\u001b[0m\u001b[0;34m\u001b[0m\u001b[0;34m\u001b[0m\u001b[0m\n\u001b[1;32m    991\u001b[0m                     \u001b[0;32melse\u001b[0m\u001b[0;34m:\u001b[0m\u001b[0;34m\u001b[0m\u001b[0;34m\u001b[0m\u001b[0m\n",
      "\u001b[0;32m~/Library/Python/3.7/lib/python/site-packages/pandas/core/generic.py\u001b[0m in \u001b[0;36m_get_label_or_level_values\u001b[0;34m(self, key, axis)\u001b[0m\n\u001b[1;32m   1773\u001b[0m             \u001b[0mvalues\u001b[0m \u001b[0;34m=\u001b[0m \u001b[0mself\u001b[0m\u001b[0;34m.\u001b[0m\u001b[0maxes\u001b[0m\u001b[0;34m[\u001b[0m\u001b[0maxis\u001b[0m\u001b[0;34m]\u001b[0m\u001b[0;34m.\u001b[0m\u001b[0mget_level_values\u001b[0m\u001b[0;34m(\u001b[0m\u001b[0mkey\u001b[0m\u001b[0;34m)\u001b[0m\u001b[0;34m.\u001b[0m\u001b[0m_values\u001b[0m\u001b[0;34m\u001b[0m\u001b[0;34m\u001b[0m\u001b[0m\n\u001b[1;32m   1774\u001b[0m         \u001b[0;32melse\u001b[0m\u001b[0;34m:\u001b[0m\u001b[0;34m\u001b[0m\u001b[0;34m\u001b[0m\u001b[0m\n\u001b[0;32m-> 1775\u001b[0;31m             \u001b[0;32mraise\u001b[0m \u001b[0mKeyError\u001b[0m\u001b[0;34m(\u001b[0m\u001b[0mkey\u001b[0m\u001b[0;34m)\u001b[0m\u001b[0;34m\u001b[0m\u001b[0;34m\u001b[0m\u001b[0m\n\u001b[0m\u001b[1;32m   1776\u001b[0m \u001b[0;34m\u001b[0m\u001b[0m\n\u001b[1;32m   1777\u001b[0m         \u001b[0;31m# Check for duplicates\u001b[0m\u001b[0;34m\u001b[0m\u001b[0;34m\u001b[0m\u001b[0;34m\u001b[0m\u001b[0m\n",
      "\u001b[0;31mKeyError\u001b[0m: 'segment_id'"
     ]
    }
   ],
   "source": [
    "df1=pd.merge(df_final, user_df, how='left', left_on='segment_id', right_on='id')\n",
    "df1 = df1[['date_index', 'y', 'm', 'w', 'dw','segment_id','total_thread_view','total_searches','average_thread_views_per_user','average_searches_per_user' ]]\n",
    "df1['average_thread_views_per_user'] = df1['average_thread_views_per_user'].astype(float)\n",
    "df1['average_searches_per_user'] = df1['average_searches_per_user'].astype(float)\n",
    "df1.sort_values(['segment_id', 'y', 'm', 'w', 'dw', 'date_index'], ascending = True, inplace = True)"
   ]
  },
  {
   "cell_type": "code",
   "execution_count": 85,
   "metadata": {},
   "outputs": [
    {
     "data": {
      "text/html": [
       "<div>\n",
       "<style scoped>\n",
       "    .dataframe tbody tr th:only-of-type {\n",
       "        vertical-align: middle;\n",
       "    }\n",
       "\n",
       "    .dataframe tbody tr th {\n",
       "        vertical-align: top;\n",
       "    }\n",
       "\n",
       "    .dataframe thead th {\n",
       "        text-align: right;\n",
       "    }\n",
       "</style>\n",
       "<table border=\"1\" class=\"dataframe\">\n",
       "  <thead>\n",
       "    <tr style=\"text-align: right;\">\n",
       "      <th></th>\n",
       "      <th>i_n_d_e_x</th>\n",
       "    </tr>\n",
       "  </thead>\n",
       "  <tbody>\n",
       "  </tbody>\n",
       "</table>\n",
       "</div>"
      ],
      "text/plain": [
       "Empty DataFrame\n",
       "Columns: [i_n_d_e_x]\n",
       "Index: []"
      ]
     },
     "execution_count": 85,
     "metadata": {},
     "output_type": "execute_result"
    }
   ],
   "source": [
    "user_data_dictionary = {}\n",
    "for index, row in mdf.iterrows():\n",
    "    c = 'value_threads_viewed'\n",
    "    segment_id, y, m, w, dw, date_index, hot_deal_views, fire_deal_views, front_page_views = row['segment_id'],row['y'], row['m'], row['w'], row['dw'], row['date_index'], row['hot_deal_views'], row['fire_deal_views'], row['front_page_views']\n",
    "    prev = user_data_dictionary.get(segment_id, {})\n",
    "    prev[c] = hot_deal_views, fire_deal_views, front_page_views\n",
    "    user_data_dictionary[segment_id] = prev\n"
   ]
  },
  {
   "cell_type": "code",
   "execution_count": 89,
   "metadata": {},
   "outputs": [
    {
     "data": {
      "text/html": [
       "<div>\n",
       "<style scoped>\n",
       "    .dataframe tbody tr th:only-of-type {\n",
       "        vertical-align: middle;\n",
       "    }\n",
       "\n",
       "    .dataframe tbody tr th {\n",
       "        vertical-align: top;\n",
       "    }\n",
       "\n",
       "    .dataframe thead th {\n",
       "        text-align: right;\n",
       "    }\n",
       "</style>\n",
       "<table border=\"1\" class=\"dataframe\">\n",
       "  <thead>\n",
       "    <tr style=\"text-align: right;\">\n",
       "      <th></th>\n",
       "      <th>i_n_d_e_x</th>\n",
       "    </tr>\n",
       "  </thead>\n",
       "  <tbody>\n",
       "  </tbody>\n",
       "</table>\n",
       "</div>"
      ],
      "text/plain": [
       "Empty DataFrame\n",
       "Columns: [i_n_d_e_x]\n",
       "Index: []"
      ]
     },
     "execution_count": 89,
     "metadata": {},
     "output_type": "execute_result"
    }
   ],
   "source": [
    "final_df"
   ]
  },
  {
   "cell_type": "code",
   "execution_count": null,
   "metadata": {},
   "outputs": [],
   "source": [
    "def relationize(f_name, row):\n",
    "    key = 'value_num_of_engagements_per_device'\n",
    "    expr = row[key]\n",
    "    expr = json.loads(expr)\n",
    "    return expr.get(f_name, \"0\")\n",
    "\n",
    "\n",
    "columns = ['segment_id', 'date_index', 'year', 'month', 'week', 'weekday',\n",
    "       'value_num_of_engagements_per_device', 'channel']\n",
    "dfz = pd.DataFrame(columns=columns)\n",
    "final_df.shape\n",
    "\n",
    "# channels = [\"Mobile\", \"Tablet\", \"Desktop\"]\n",
    "# for chan in channels:\n",
    "# #     dfz[\"channel\"] = dfz.apply(lambda x: chan)\n",
    "#     dfz[\"value\"] = dfz.apply(lambda x:  relationize(chan, x), axis=1)\n",
    "    \n",
    "    \n",
    "# #     df_mobile = df_mobile.apply(lambda x:  relationize(chan, x[key]), axis=1)\n",
    "# #     df_tablet = df_mobile.apply(lambda x:  relationize(chan, x[key]), axis=1)\n",
    "# #     df_desktop = df_mobile.apply(lambda x:  relationize(chan, x[key]), axis=1)\n",
    "\n",
    "# #     dfz[\"channel\"] = dfz.apply(lambda x:  relationize(\"Mobile\", x[key]), axis=1)\n",
    "\n",
    "\n",
    "\n",
    "# dfz"
   ]
  }
 ],
 "metadata": {
  "kernelspec": {
   "display_name": "Python 3",
   "language": "python",
   "name": "python3"
  },
  "language_info": {
   "codemirror_mode": {
    "name": "ipython",
    "version": 3
   },
   "file_extension": ".py",
   "mimetype": "text/x-python",
   "name": "python",
   "nbconvert_exporter": "python",
   "pygments_lexer": "ipython3",
   "version": "3.7.3"
  }
 },
 "nbformat": 4,
 "nbformat_minor": 2
}
